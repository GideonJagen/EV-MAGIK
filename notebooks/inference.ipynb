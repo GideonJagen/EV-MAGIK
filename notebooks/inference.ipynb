{
 "cells": [
  {
   "cell_type": "markdown",
   "metadata": {},
   "source": [
    "## Set-up"
   ]
  },
  {
   "cell_type": "code",
   "execution_count": null,
   "metadata": {},
   "outputs": [],
   "source": [
    "import tifffile\n",
    "from matplotlib import pyplot as plt\n",
    "import numpy as np\n",
    "import tensorflow as tf\n",
    "from tqdm import tqdm\n",
    "from pathlib import Path\n",
    "import gc\n",
    "from matplotlib import colormaps as cm\n",
    "\n",
    "import sys\n",
    "import os\n",
    "\n",
    "module_path = os.path.abspath(os.path.join('..'))\n",
    "sys.path.append(module_path)\n",
    "\n",
    "import utils\n",
    "import track"
   ]
  },
  {
   "cell_type": "markdown",
   "metadata": {},
   "source": [
    "### Hyper parameters"
   ]
  },
  {
   "cell_type": "code",
   "execution_count": null,
   "metadata": {},
   "outputs": [],
   "source": [
    "loadstar_weight_name = \"loadstar_first\"\n",
    "magik_weight_name = \"MAGIK_MP_MPN\"\n",
    "\n",
    "# Experiment parameters\n",
    "tiff_path = r'/home/gideon/Documents/PhD/Projects/KAW/data_from_VE/Experiment-16031.tif' # Change this to where you have the tiff file\n",
    "output_path = r'/home/gideon/Documents/PhD/Projects/KAW/output' # Change this to where you want the output to be saved\n",
    "pages_batch_size = 2\n",
    "channel_width = 0.3 # Microns\n",
    "\n",
    "# Loadstar parameters\n",
    "alpha = 0.999\n",
    "cutoff = 0.002\n",
    "\n",
    "# MAGIK parameters\n",
    "radius = 0.08 # Value between 0 and 1 where 1 is the full image hight\n",
    "traj_min = 6\n",
    "n_frames = 7\n",
    "\n",
    "print(\"Num GPUs Available: \", len(tf.config.list_physical_devices('GPU')))\n",
    "\n",
    "loadstar, magik = utils.load_models(loadstar_weight_name, magik_weight_name)"
   ]
  },
  {
   "cell_type": "markdown",
   "metadata": {},
   "source": [
    "#### Test loadstar parameters"
   ]
  },
  {
   "cell_type": "code",
   "execution_count": null,
   "metadata": {},
   "outputs": [],
   "source": [
    "utils.test_loadstar(tiff_path, loadstar, alpha, cutoff, 1)"
   ]
  },
  {
   "cell_type": "markdown",
   "metadata": {},
   "source": [
    "### Extract metadata"
   ]
  },
  {
   "cell_type": "code",
   "execution_count": null,
   "metadata": {},
   "outputs": [],
   "source": [
    "tiffpage = tifffile.TiffFile(tiff_path).pages[0]\n",
    "for tag in tiffpage.tags.values():\n",
    "    print(tag.name, tag.value)"
   ]
  },
  {
   "cell_type": "code",
   "execution_count": null,
   "metadata": {},
   "outputs": [],
   "source": [
    "width = tiffpage.tags.get('ImageWidth').value # Pixels\n",
    "height = tiffpage.tags.get('ImageLength').value # Pixels\n",
    "x_resolution = tiffpage.tags.get('XResolution').value # Pixels per micron\n",
    "y_resolution = tiffpage.tags.get('YResolution').value # Pixels per micron"
   ]
  },
  {
   "cell_type": "markdown",
   "metadata": {},
   "source": [
    "### Calculated paramters"
   ]
  },
  {
   "cell_type": "code",
   "execution_count": null,
   "metadata": {},
   "outputs": [],
   "source": [
    "# Calculated parameters\n",
    "x_resolution = x_resolution[0] / 1000000 # Pixels per micron\n",
    "y_resolution = y_resolution[0] / 1000000 # Pixels per micron\n",
    "\n",
    "pixel_size_x = 1/x_resolution # Microns per pixel\n",
    "pixel_size_y = 1/y_resolution # Microns per pixel\n",
    "\n",
    "channel_width_pixels = channel_width * x_resolution # Pixels\n",
    "channel_width_norm = channel_width_pixels / width\n",
    "\n",
    "radius_ratio = radius / channel_width_norm\n",
    "\n",
    "print(f\"Channel width: {channel_width_pixels} pixels\")\n",
    "print(f\"Radius ratio: {radius_ratio} ratio\")"
   ]
  },
  {
   "cell_type": "markdown",
   "metadata": {},
   "source": [
    "## Detect"
   ]
  },
  {
   "cell_type": "code",
   "execution_count": null,
   "metadata": {},
   "outputs": [],
   "source": [
    "detections  = utils.detect(tiff_path, loadstar, pages_batch_size, alpha, cutoff)\n",
    "utils.save_detections(detections, f\"{output_path}/detections.csv\", full=True)"
   ]
  },
  {
   "cell_type": "markdown",
   "metadata": {},
   "source": [
    "## Track"
   ]
  },
  {
   "cell_type": "code",
   "execution_count": null,
   "metadata": {},
   "outputs": [],
   "source": [
    "detections = utils.load_detections(f\"{output_path}/detections.csv\")\n",
    "\n",
    "detections = utils.warp_axis(detections, radius_ratio, axis_name='centroid-0')\n",
    "tracks = track.predict_trajectories(magik, detections, radius, n_frames, traj_min)\n",
    "tracks = utils.unwarp_axis(tracks, radius_ratio, axis_name='x')\n",
    "\n",
    "# Convert to pixel values\n",
    "tracks['x'] *= width\n",
    "tracks['y'] *= height\n",
    "track.save_trajectories(tracks, f\"{output_path}/tracks.csv\")"
   ]
  },
  {
   "cell_type": "markdown",
   "metadata": {},
   "source": [
    "### Plot track"
   ]
  },
  {
   "cell_type": "code",
   "execution_count": null,
   "metadata": {},
   "outputs": [],
   "source": [
    "track.plot_trajectories(tracks, tiff_path, output_path, pages_batch_size, stop=50)"
   ]
  },
  {
   "cell_type": "markdown",
   "metadata": {},
   "source": [
    "## Further analyze the tracks"
   ]
  },
  {
   "cell_type": "markdown",
   "metadata": {},
   "source": [
    "### Change x and y units"
   ]
  },
  {
   "cell_type": "markdown",
   "metadata": {},
   "source": [
    "#### Add axis for lengths in microns"
   ]
  },
  {
   "cell_type": "code",
   "execution_count": null,
   "metadata": {},
   "outputs": [],
   "source": [
    "tracks = track.load_trajectories(f\"{output_path}/tracks.csv\")\n",
    "\n",
    "tracks['x_microns'] = tracks['x'] * pixel_size_x\n",
    "tracks['y_microns'] = tracks['y'] * pixel_size_y"
   ]
  },
  {
   "cell_type": "markdown",
   "metadata": {},
   "source": [
    "#### Alt. replace x and y with micron versions"
   ]
  },
  {
   "cell_type": "code",
   "execution_count": null,
   "metadata": {},
   "outputs": [],
   "source": [
    "tracks = track.load_trajectories(f\"{output_path}/tracks.csv\")\n",
    "tracks['x'] = tracks['x'] * pixel_size_x\n",
    "tracks['y'] = tracks['y'] * pixel_size_y"
   ]
  },
  {
   "cell_type": "code",
   "execution_count": null,
   "metadata": {},
   "outputs": [],
   "source": [
    "tracks.head(20)"
   ]
  },
  {
   "cell_type": "markdown",
   "metadata": {},
   "source": [
    "### Remove still particles"
   ]
  },
  {
   "cell_type": "code",
   "execution_count": null,
   "metadata": {},
   "outputs": [],
   "source": [
    "still_cuttoff = 40\n",
    "\n",
    "print(f'Number of objects before: {len(tracks.entity.unique())}')\n",
    "\n",
    "tracks_stills_removed = track.remove_still_objects(tracks, still_cuttoff)\n",
    "\n",
    "print(f'Number of objects after: {len(tracks_stills_removed.entity.unique())}')"
   ]
  },
  {
   "cell_type": "code",
   "execution_count": null,
   "metadata": {},
   "outputs": [],
   "source": [
    "track.plot_trajectories(tracks_stills_removed, tiff_path, output_path, pages_batch_size, stop=50)"
   ]
  },
  {
   "cell_type": "markdown",
   "metadata": {},
   "source": [
    "### Track length and distance"
   ]
  },
  {
   "cell_type": "code",
   "execution_count": null,
   "metadata": {},
   "outputs": [],
   "source": [
    "tracks = tracks_stills_removed\n",
    "tracks = track.distance_traveled(tracks)\n",
    "tracks.head(20)"
   ]
  },
  {
   "cell_type": "code",
   "execution_count": null,
   "metadata": {},
   "outputs": [],
   "source": [
    "tracks = track.count_appearances(tracks)\n",
    "track.save_trajectories(tracks, f\"{output_path}/tracks.csv\")\n",
    "\n",
    "tracks.head(50)"
   ]
  },
  {
   "cell_type": "markdown",
   "metadata": {},
   "source": [
    "### Extract intensity"
   ]
  },
  {
   "cell_type": "code",
   "execution_count": null,
   "metadata": {},
   "outputs": [],
   "source": [
    "tracks = utils.detection_intensity(tiff_path, tracks, pages_batch_size, mode='mean', kernel_size=3)\n",
    "track_intensities = utils.track_intensity(tracks, mode='mean')"
   ]
  },
  {
   "cell_type": "code",
   "execution_count": null,
   "metadata": {},
   "outputs": [],
   "source": [
    "tracks.head(10)"
   ]
  },
  {
   "cell_type": "code",
   "execution_count": null,
   "metadata": {},
   "outputs": [],
   "source": [
    "print(track_intensities)"
   ]
  }
 ],
 "metadata": {
  "kernelspec": {
   "display_name": "base",
   "language": "python",
   "name": "python3"
  },
  "language_info": {
   "codemirror_mode": {
    "name": "ipython",
    "version": 3
   },
   "file_extension": ".py",
   "mimetype": "text/x-python",
   "name": "python",
   "nbconvert_exporter": "python",
   "pygments_lexer": "ipython3",
   "version": "3.11.6"
  }
 },
 "nbformat": 4,
 "nbformat_minor": 2
}
