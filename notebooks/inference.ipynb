{
    "cells": [
        {
            "cell_type": "markdown",
            "metadata": {},
            "source": [
                "## Set-up"
            ]
        },
        {
            "cell_type": "code",
            "execution_count": null,
            "metadata": {
                "metadata": {}
            },
            "outputs": [],
            "source": [
                "import tifffile\n",
                "from matplotlib import pyplot as plt\n",
                "import numpy as np\n",
                "import tensorflow as tf\n",
                "from tqdm import tqdm\n",
                "from pathlib import Path\n",
                "import gc\n",
                "from matplotlib import colormaps as cm\n",
                "from glob import glob\n",
                "\n",
                "import sys\n",
                "import os\n",
                "\n",
                "module_path = os.path.abspath(os.path.join('..'))\n",
                "sys.path.append(module_path)\n",
                "\n",
                "import utils\n",
                "import track"
            ]
        },
        {
            "cell_type": "markdown",
            "metadata": {},
            "source": [
                "### Hyper parameters"
            ]
        },
        {
            "cell_type": "code",
            "execution_count": null,
            "metadata": {
                "metadata": {}
            },
            "outputs": [],
            "source": [
                "loadstar_weight_name = \"loadstar_first\"\n",
                "magik_weight_name = \"MAGIK_MP_MPN\"\n",
                "\n",
                "# Experiment parameters\n",
                "dir_mode = True\n",
                "input_path = r'/home/gideon/data/data_VE/test' # Change this to where you have the tiff file\n",
                "output_path = r'/home/gideon/Documents/PhD/Projects/KAW/output' # Change this to where you want the output to be saved\n",
                "pages_batch_size = 2\n",
                "channel_width = 0.3 # Microns\n",
                "\n",
                "# Loadstar parameters\n",
                "alpha = 0.999\n",
                "cutoff = 0.00000002\n",
                "\n",
                "# MAGIK parameters\n",
                "radius = 0.08 # Value between 0 and 1 where 1 is the full image hight\n",
                "traj_min = 6\n",
                "n_frames = 4\n",
                "\n",
                "print(\"Num GPUs Available: \", len(tf.config.list_physical_devices('GPU')))\n",
                "\n",
                "loadstar, magik = utils.load_models(loadstar_weight_name, magik_weight_name)\n",
                "\n",
                "if dir_mode:\n",
                "    image_paths = glob(input_path + '/*.tif')\n",
                "else:\n",
                "    image_paths = [input_path]"
            ]
        },
        {
            "cell_type": "code",
            "execution_count": null,
            "metadata": {
                "metadata": {}
            },
            "outputs": [],
            "source": [
                "for path in image_paths:\n",
                "    print(path)"
            ]
        },
        {
            "cell_type": "markdown",
            "metadata": {},
            "source": [
                "#### Test loadstar parameters"
            ]
        },
        {
            "cell_type": "code",
            "execution_count": null,
            "metadata": {
                "metadata": {}
            },
            "outputs": [],
            "source": [
                "utils.test_loadstar(image_paths[0], loadstar, alpha, cutoff, 1)"
            ]
        },
        {
            "cell_type": "markdown",
            "metadata": {},
            "source": [
                "### Extract metadata"
            ]
        },
        {
            "cell_type": "code",
            "execution_count": null,
            "metadata": {
                "metadata": {}
            },
            "outputs": [],
            "source": [
                "tiffpage = tifffile.TiffFile(image_paths[1]).pages[0]\n",
                "for tag in tiffpage.tags.values():\n",
                "    print(tag.name, tag.value)    \n"
            ]
        },
        {
            "cell_type": "code",
            "execution_count": null,
            "metadata": {
                "metadata": {}
            },
            "outputs": [],
            "source": [
                "width = tiffpage.tags.get('ImageWidth').value # Pixels\n",
                "height = tiffpage.tags.get('ImageLength').value # Pixels\n",
                "x_resolution = tiffpage.tags.get('XResolution').value # Pixels per micron\n",
                "y_resolution = tiffpage.tags.get('YResolution').value # Pixels per micron\n",
                "\n",
                "# Very bad solution but it works temporarily\n",
                "fintervals = []\n",
                "for path in image_paths:\n",
                "    tiffpage = tifffile.TiffFile(path).pages[0]\n",
                "    ImageDescription = tiffpage.tags.get('ImageDescription').value.split('\\n') # Seconds\n",
                "    finterval = float(ImageDescription[4].split('=')[1])\n",
                "    fintervals.append(finterval)"
            ]
        },
        {
            "cell_type": "markdown",
            "metadata": {},
            "source": [
                "### Calculated paramters"
            ]
        },
        {
            "cell_type": "code",
            "execution_count": null,
            "metadata": {
                "metadata": {}
            },
            "outputs": [],
            "source": [
                "# Calculated parameters\n",
                "x_resolution = x_resolution[0] / 1000000 # Pixels per micron\n",
                "y_resolution = y_resolution[0] / 1000000 # Pixels per micron\n",
                "\n",
                "pixel_size_x = 1/x_resolution # Microns per pixel\n",
                "pixel_size_y = 1/y_resolution # Microns per pixel\n",
                "\n",
                "channel_width_pixels = channel_width * x_resolution # Pixels\n",
                "channel_width_norm = channel_width_pixels / width\n",
                "\n",
                "radius_ratio = radius / channel_width_norm\n",
                "\n",
                "print(f\"Channel width: {channel_width_pixels} pixels\")\n",
                "print(f\"Radius ratio: {radius_ratio} ratio\")"
            ]
        },
        {
            "cell_type": "markdown",
            "metadata": {},
            "source": [
                "## Detect"
            ]
        },
        {
            "cell_type": "code",
            "execution_count": null,
            "metadata": {
                "metadata": {}
            },
            "outputs": [],
            "source": [
                "import importlib\n",
                "importlib.reload(utils)\n",
                "detections  = utils.detect(image_paths, loadstar, pages_batch_size, alpha, cutoff)\n",
                "utils.save_detections(detections, f\"{output_path}/detections.csv\", full=True)"
            ]
        },
        {
            "cell_type": "markdown",
            "metadata": {},
            "source": [
                "## Track"
            ]
        },
        {
            "cell_type": "code",
            "execution_count": null,
            "metadata": {},
            "outputs": [],
            "source": [
                "import importlib\n",
                "importlib.reload(track)\n",
                "\n",
                "detections = utils.load_detections(f\"{output_path}/detections.csv\")\n",
                "\n",
                "detections = utils.warp_axis(detections, radius_ratio, axis_name='centroid-0')\n",
                "tracks = track.predict_trajectories(magik, detections, radius, n_frames, traj_min)\n",
                "tracks = utils.unwarp_axis(tracks, radius_ratio, axis_name='x')\n",
                "\n",
                "# Convert to pixel values\n",
                "tracks['x'] *= width\n",
                "tracks['y'] *= height\n",
                "track.save_trajectories(tracks, f\"{output_path}/tracks.csv\")"
            ]
        },
        {
            "cell_type": "markdown",
            "metadata": {},
            "source": [
                "### Plot track"
            ]
        },
        {
            "cell_type": "code",
            "execution_count": null,
            "metadata": {},
            "outputs": [],
            "source": [
                "tracks.head(-1)"
            ]
        },
        {
            "cell_type": "code",
            "execution_count": null,
            "metadata": {},
            "outputs": [],
            "source": [
                "import importlib\n",
                "importlib.reload(track)\n",
                "track.plot_trajectories(tracks, image_paths, output_path, pages_batch_size)"
            ]
        },
        {
            "cell_type": "markdown",
            "metadata": {},
            "source": [
                "## Further analyze the tracks"
            ]
        },
        {
            "cell_type": "markdown",
            "metadata": {},
            "source": [
                "### Change x and y units"
            ]
        },
        {
            "cell_type": "markdown",
            "metadata": {},
            "source": [
                "#### Add axis for lengths in microns"
            ]
        },
        {
            "cell_type": "code",
            "execution_count": null,
            "metadata": {},
            "outputs": [],
            "source": [
                "tracks = track.load_trajectories(f\"{output_path}/tracks.csv\")\n",
                "\n",
                "tracks['y_microns'] = tracks['y'] * pixel_size_y\n",
                "tracks['x_microns'] = tracks['x'] * pixel_size_x"
            ]
        },
        {
            "cell_type": "markdown",
            "metadata": {},
            "source": [
                "#### Alt. replace x and y with micron versions"
            ]
        },
        {
            "cell_type": "code",
            "execution_count": null,
            "metadata": {},
            "outputs": [],
            "source": [
                "tracks = track.load_trajectories(f\"{output_path}/tracks.csv\")\n",
                "\n",
                "tracks['y'] = tracks['y'] * pixel_size_y\n",
                "tracks['x'] = tracks['x'] * pixel_size_x"
            ]
        },
        {
            "cell_type": "markdown",
            "metadata": {},
            "source": [
                "### Remove still particles"
            ]
        },
        {
            "cell_type": "code",
            "execution_count": null,
            "metadata": {},
            "outputs": [],
            "source": [
                "still_cuttoff = 10\n",
                "\n",
                "print(f'Number of objects before: {len(tracks[tracks[\"set\"] == 0].entity.unique())}')\n",
                "\n",
                "tracks_stills_removed = track.remove_still_objects(tracks, still_cuttoff)\n",
                "\n",
                "print(f'Number of objects after: {len(tracks_stills_removed[tracks_stills_removed[\"set\"] == 0].entity.unique())}')"
            ]
        },
        {
            "cell_type": "code",
            "execution_count": null,
            "metadata": {},
            "outputs": [],
            "source": [
                "tracks_stills_removed.head(-1)"
            ]
        },
        {
            "cell_type": "markdown",
            "metadata": {},
            "source": [
                "### Combine tracks"
            ]
        },
        {
            "cell_type": "code",
            "execution_count": null,
            "metadata": {},
            "outputs": [],
            "source": [
                "track.plot_trajectories(tracks_stills_removed, image_paths, output_path, pages_batch_size, stop=50)"
            ]
        },
        {
            "cell_type": "markdown",
            "metadata": {},
            "source": [
                "### Track length and distance"
            ]
        },
        {
            "cell_type": "markdown",
            "metadata": {},
            "source": [
                "#### Distance Traveled"
            ]
        },
        {
            "cell_type": "code",
            "execution_count": null,
            "metadata": {},
            "outputs": [],
            "source": [
                "import importlib\n",
                "importlib.reload(track)\n",
                "\n",
                "tracks = tracks_stills_removed\n",
                "\n",
                "tracks = track.distance_traveled(tracks)\n",
                "\n",
                "tracks = tracks.sort_values(by=['frame', 'entity', 'set'], ascending=True)\n",
                "tracks.head(-1)"
            ]
        },
        {
            "cell_type": "markdown",
            "metadata": {},
            "source": [
                "#### Appearances & time"
            ]
        },
        {
            "cell_type": "code",
            "execution_count": null,
            "metadata": {},
            "outputs": [],
            "source": [
                "tracks = track.count_appearances(tracks)\n",
                "\n",
                "tracks.head(-1)"
            ]
        },
        {
            "cell_type": "code",
            "execution_count": null,
            "metadata": {},
            "outputs": [],
            "source": [
                "for set_num in tracks[\"set\"].unique():\n",
                "    tracks.loc[\n",
                "            tracks[\"set\"] == set_num, [\"t\"]\n",
                "        ] = tracks[tracks['set'] == set_num]['frame_count'] * fintervals[set_num]\n",
                "\n",
                "track.save_trajectories(tracks, f\"{output_path}/tracks.csv\")"
            ]
        },
        {
            "cell_type": "markdown",
            "metadata": {},
            "source": [
                "### Extract intensity"
            ]
        },
        {
            "cell_type": "code",
            "execution_count": null,
            "metadata": {},
            "outputs": [],
            "source": [
                "tracks = utils.detection_intensity(image_paths, tracks, pages_batch_size, mode='pixel', kernel_size=3)\n",
                "track_intensities = utils.track_intensity(tracks, mode='mean')\n",
                "\n",
                "track.save_trajectories(tracks, f\"{output_path}/tracks.csv\")"
            ]
        },
        {
            "cell_type": "code",
            "execution_count": null,
            "metadata": {},
            "outputs": [],
            "source": [
                "tracks.head(-1)"
            ]
        }
    ],
    "metadata": {
        "kernelspec": {
            "display_name": "base",
            "language": "python",
            "name": "python3"
        },
        "language_info": {
            "codemirror_mode": {
                "name": "ipython",
                "version": 3
            },
            "file_extension": ".py",
            "mimetype": "text/x-python",
            "name": "python",
            "nbconvert_exporter": "python",
            "pygments_lexer": "ipython3",
            "version": "3.11.6"
        }
    },
    "nbformat": 4,
    "nbformat_minor": 2
}
