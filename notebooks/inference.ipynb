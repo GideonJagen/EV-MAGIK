{
 "cells": [
  {
   "cell_type": "markdown",
   "metadata": {},
   "source": [
    "## Set-up"
   ]
  },
  {
   "cell_type": "code",
   "execution_count": 1,
   "metadata": {},
   "outputs": [
    {
     "name": "stderr",
     "output_type": "stream",
     "text": [
      "2024-04-17 10:17:09.862602: I tensorflow/core/util/port.cc:113] oneDNN custom operations are on. You may see slightly different numerical results due to floating-point round-off errors from different computation orders. To turn them off, set the environment variable `TF_ENABLE_ONEDNN_OPTS=0`.\n",
      "2024-04-17 10:17:09.985567: E external/local_xla/xla/stream_executor/cuda/cuda_dnn.cc:9261] Unable to register cuDNN factory: Attempting to register factory for plugin cuDNN when one has already been registered\n",
      "2024-04-17 10:17:09.985615: E external/local_xla/xla/stream_executor/cuda/cuda_fft.cc:607] Unable to register cuFFT factory: Attempting to register factory for plugin cuFFT when one has already been registered\n",
      "2024-04-17 10:17:09.998612: E external/local_xla/xla/stream_executor/cuda/cuda_blas.cc:1515] Unable to register cuBLAS factory: Attempting to register factory for plugin cuBLAS when one has already been registered\n",
      "2024-04-17 10:17:10.031036: I tensorflow/core/platform/cpu_feature_guard.cc:182] This TensorFlow binary is optimized to use available CPU instructions in performance-critical operations.\n",
      "To enable the following instructions: AVX2 AVX_VNNI FMA, in other operations, rebuild TensorFlow with the appropriate compiler flags.\n",
      "2024-04-17 10:17:10.798833: W tensorflow/compiler/tf2tensorrt/utils/py_utils.cc:38] TF-TRT Warning: Could not find TensorRT\n",
      "/home/gideon/Documents/PhD/Projects/KAW/.venv/lib/python3.11/site-packages/deeptrack/backend/_config.py:11: UserWarning: cupy not installed. GPU-accelerated simulations will not be possible\n",
      "  warnings.warn(\n",
      "/home/gideon/Documents/PhD/Projects/KAW/.venv/lib/python3.11/site-packages/deeptrack/backend/_config.py:25: UserWarning: cupy not installed, CPU acceleration not enabled\n",
      "  warnings.warn(\"cupy not installed, CPU acceleration not enabled\")\n",
      "2024-04-17 10:17:13.248456: I external/local_xla/xla/stream_executor/cuda/cuda_executor.cc:901] successful NUMA node read from SysFS had negative value (-1), but there must be at least one NUMA node, so returning NUMA node zero. See more at https://github.com/torvalds/linux/blob/v6.0/Documentation/ABI/testing/sysfs-bus-pci#L344-L355\n",
      "2024-04-17 10:17:13.316197: I external/local_xla/xla/stream_executor/cuda/cuda_executor.cc:901] successful NUMA node read from SysFS had negative value (-1), but there must be at least one NUMA node, so returning NUMA node zero. See more at https://github.com/torvalds/linux/blob/v6.0/Documentation/ABI/testing/sysfs-bus-pci#L344-L355\n",
      "2024-04-17 10:17:13.316335: I external/local_xla/xla/stream_executor/cuda/cuda_executor.cc:901] successful NUMA node read from SysFS had negative value (-1), but there must be at least one NUMA node, so returning NUMA node zero. See more at https://github.com/torvalds/linux/blob/v6.0/Documentation/ABI/testing/sysfs-bus-pci#L344-L355\n",
      "/home/gideon/Documents/PhD/Projects/KAW/.venv/lib/python3.11/site-packages/tensorflow_addons/utils/tfa_eol_msg.py:23: UserWarning: \n",
      "\n",
      "TensorFlow Addons (TFA) has ended development and introduction of new features.\n",
      "TFA has entered a minimal maintenance and release mode until a planned end of life in May 2024.\n",
      "Please modify downstream libraries to take dependencies from other repositories in our TensorFlow community (e.g. Keras, Keras-CV, and Keras-NLP). \n",
      "\n",
      "For more information see: https://github.com/tensorflow/addons/issues/2807 \n",
      "\n",
      "  warnings.warn(\n",
      "/home/gideon/Documents/PhD/Projects/KAW/.venv/lib/python3.11/site-packages/tqdm/auto.py:21: TqdmWarning: IProgress not found. Please update jupyter and ipywidgets. See https://ipywidgets.readthedocs.io/en/stable/user_install.html\n",
      "  from .autonotebook import tqdm as notebook_tqdm\n"
     ]
    }
   ],
   "source": [
    "import tifffile\n",
    "from matplotlib import pyplot as plt\n",
    "import numpy as np\n",
    "import tensorflow as tf\n",
    "from tqdm import tqdm\n",
    "from pathlib import Path\n",
    "import gc\n",
    "from matplotlib import colormaps as cm\n",
    "\n",
    "import sys\n",
    "import os\n",
    "\n",
    "module_path = os.path.abspath(os.path.join('..'))\n",
    "sys.path.append(module_path)\n",
    "\n",
    "import utils\n",
    "import track"
   ]
  },
  {
   "cell_type": "markdown",
   "metadata": {},
   "source": [
    "### Hyper parameters"
   ]
  },
  {
   "cell_type": "code",
   "execution_count": 2,
   "metadata": {},
   "outputs": [
    {
     "name": "stdout",
     "output_type": "stream",
     "text": [
      "Num GPUs Available:  1\n"
     ]
    },
    {
     "name": "stderr",
     "output_type": "stream",
     "text": [
      "2024-04-17 10:17:13.971932: I external/local_xla/xla/stream_executor/cuda/cuda_executor.cc:901] successful NUMA node read from SysFS had negative value (-1), but there must be at least one NUMA node, so returning NUMA node zero. See more at https://github.com/torvalds/linux/blob/v6.0/Documentation/ABI/testing/sysfs-bus-pci#L344-L355\n",
      "2024-04-17 10:17:13.972188: I external/local_xla/xla/stream_executor/cuda/cuda_executor.cc:901] successful NUMA node read from SysFS had negative value (-1), but there must be at least one NUMA node, so returning NUMA node zero. See more at https://github.com/torvalds/linux/blob/v6.0/Documentation/ABI/testing/sysfs-bus-pci#L344-L355\n",
      "2024-04-17 10:17:13.972289: I external/local_xla/xla/stream_executor/cuda/cuda_executor.cc:901] successful NUMA node read from SysFS had negative value (-1), but there must be at least one NUMA node, so returning NUMA node zero. See more at https://github.com/torvalds/linux/blob/v6.0/Documentation/ABI/testing/sysfs-bus-pci#L344-L355\n",
      "2024-04-17 10:17:14.013482: I external/local_xla/xla/stream_executor/cuda/cuda_executor.cc:901] successful NUMA node read from SysFS had negative value (-1), but there must be at least one NUMA node, so returning NUMA node zero. See more at https://github.com/torvalds/linux/blob/v6.0/Documentation/ABI/testing/sysfs-bus-pci#L344-L355\n",
      "2024-04-17 10:17:14.013613: I external/local_xla/xla/stream_executor/cuda/cuda_executor.cc:901] successful NUMA node read from SysFS had negative value (-1), but there must be at least one NUMA node, so returning NUMA node zero. See more at https://github.com/torvalds/linux/blob/v6.0/Documentation/ABI/testing/sysfs-bus-pci#L344-L355\n",
      "2024-04-17 10:17:14.013689: I external/local_xla/xla/stream_executor/cuda/cuda_executor.cc:901] successful NUMA node read from SysFS had negative value (-1), but there must be at least one NUMA node, so returning NUMA node zero. See more at https://github.com/torvalds/linux/blob/v6.0/Documentation/ABI/testing/sysfs-bus-pci#L344-L355\n",
      "2024-04-17 10:17:14.013752: I tensorflow/core/common_runtime/gpu/gpu_device.cc:1929] Created device /job:localhost/replica:0/task:0/device:GPU:0 with 4280 MB memory:  -> device: 0, name: NVIDIA GeForce RTX 4050 Laptop GPU, pci bus id: 0000:01:00.0, compute capability: 8.9\n"
     ]
    }
   ],
   "source": [
    "loadstar_weight_name = \"loadstar_first\"\n",
    "magik_weight_name = \"MAGIK_MP_MPN\"\n",
    "\n",
    "# Experiment parameters\n",
    "tiff_path = r'/home/gideon/Documents/PhD/Projects/KAW/data_from_VE/Experiment-16031.tif' # Change this to where you have the tiff file\n",
    "output_path = r'/home/gideon/Documents/PhD/Projects/KAW/output' # Change this to where you want the output to be saved\n",
    "pages_batch_size = 2\n",
    "channel_width = 0.3 # Microns\n",
    "\n",
    "# Loadstar parameters\n",
    "alpha = 0.999\n",
    "cutoff = 1e-2\n",
    "\n",
    "# MAGIK parameters\n",
    "radius = 0.08 # Value between 0 and 1 where 1 is the full image hight\n",
    "traj_min = 6\n",
    "n_frames = 7\n",
    "\n",
    "print(\"Num GPUs Available: \", len(tf.config.list_physical_devices('GPU')))\n",
    "\n",
    "loadstar, magik = utils.load_models(loadstar_weight_name, magik_weight_name)"
   ]
  },
  {
   "cell_type": "markdown",
   "metadata": {},
   "source": [
    "### Extract metadata"
   ]
  },
  {
   "cell_type": "code",
   "execution_count": 3,
   "metadata": {},
   "outputs": [
    {
     "name": "stdout",
     "output_type": "stream",
     "text": [
      "NewSubfileType 0\n",
      "ImageWidth 1254\n",
      "ImageLength 1254\n",
      "BitsPerSample 16\n",
      "Compression 1\n",
      "PhotometricInterpretation 1\n",
      "ImageDescription ImageJ=1.54f\n",
      "images=220\n",
      "frames=220\n",
      "unit=micron\n",
      "finterval=0.45014611872146115\n",
      "loop=false\n",
      "min=254.0\n",
      "max=255.0\n",
      "StripOffsets (19051,)\n",
      "SamplesPerPixel 1\n",
      "RowsPerStrip 1254\n",
      "StripByteCounts (3145032,)\n",
      "XResolution (9090909, 1000000)\n",
      "YResolution (9090909, 1000000)\n",
      "ResolutionUnit 1\n",
      "IJMetadataByteCounts (12, 78, 78, 78, 78, 78, 78, 78, 78, 78, 80, 80, 80, 80, 80, 80, 80, 80, 80, 80, 80, 80, 80, 80, 80, 80, 80, 80, 80, 80, 80, 80, 80, 80, 80, 80, 80, 80, 80, 80, 80, 80, 80, 80, 80, 80, 80, 80, 80, 80, 80, 80, 80, 80, 80, 80, 80, 80, 80, 80, 80, 80, 80, 80, 80, 80, 80, 80, 80, 80, 80, 80, 80, 80, 80, 80, 80, 80, 80, 80, 80, 80, 80, 80, 80, 80, 80, 80, 80, 80, 80, 80, 80, 80, 80, 80, 80, 80, 80, 80, 82, 82, 82, 82, 82, 82, 82, 82, 82, 82, 82, 82, 82, 82, 82, 82, 82, 82, 82, 82, 82, 82, 82, 82, 82, 82, 82, 82, 82, 82, 82, 82, 82, 82, 82, 82, 82, 82, 82, 82, 82, 82, 82, 82, 82, 82, 82, 82, 82, 82, 82, 82, 82, 82, 82, 82, 82, 82, 82, 82, 82, 82, 82, 82, 82, 82, 82, 82, 82, 82, 82, 82, 82, 82, 82, 82, 82, 82, 82, 82, 82, 82, 82, 82, 82, 82, 82, 82, 82, 82, 82, 82, 82, 82, 82, 82, 82, 82, 82, 82, 82, 82, 82, 82, 82, 82, 82, 82, 82, 82, 82, 82, 82, 82, 82, 82, 82, 82, 82, 82, 82)\n",
      "IJMetadata {'Labels': ['c:1/2 t:1/220 - Experiment-24031.czi #1', 'c:1/2 t:2/220 - Experiment-24031.czi #1', 'c:1/2 t:3/220 - Experiment-24031.czi #1', 'c:1/2 t:4/220 - Experiment-24031.czi #1', 'c:1/2 t:5/220 - Experiment-24031.czi #1', 'c:1/2 t:6/220 - Experiment-24031.czi #1', 'c:1/2 t:7/220 - Experiment-24031.czi #1', 'c:1/2 t:8/220 - Experiment-24031.czi #1', 'c:1/2 t:9/220 - Experiment-24031.czi #1', 'c:1/2 t:10/220 - Experiment-24031.czi #1', 'c:1/2 t:11/220 - Experiment-24031.czi #1', 'c:1/2 t:12/220 - Experiment-24031.czi #1', 'c:1/2 t:13/220 - Experiment-24031.czi #1', 'c:1/2 t:14/220 - Experiment-24031.czi #1', 'c:1/2 t:15/220 - Experiment-24031.czi #1', 'c:1/2 t:16/220 - Experiment-24031.czi #1', 'c:1/2 t:17/220 - Experiment-24031.czi #1', 'c:1/2 t:18/220 - Experiment-24031.czi #1', 'c:1/2 t:19/220 - Experiment-24031.czi #1', 'c:1/2 t:20/220 - Experiment-24031.czi #1', 'c:1/2 t:21/220 - Experiment-24031.czi #1', 'c:1/2 t:22/220 - Experiment-24031.czi #1', 'c:1/2 t:23/220 - Experiment-24031.czi #1', 'c:1/2 t:24/220 - Experiment-24031.czi #1', 'c:1/2 t:25/220 - Experiment-24031.czi #1', 'c:1/2 t:26/220 - Experiment-24031.czi #1', 'c:1/2 t:27/220 - Experiment-24031.czi #1', 'c:1/2 t:28/220 - Experiment-24031.czi #1', 'c:1/2 t:29/220 - Experiment-24031.czi #1', 'c:1/2 t:30/220 - Experiment-24031.czi #1', 'c:1/2 t:31/220 - Experiment-24031.czi #1', 'c:1/2 t:32/220 - Experiment-24031.czi #1', 'c:1/2 t:33/220 - Experiment-24031.czi #1', 'c:1/2 t:34/220 - Experiment-24031.czi #1', 'c:1/2 t:35/220 - Experiment-24031.czi #1', 'c:1/2 t:36/220 - Experiment-24031.czi #1', 'c:1/2 t:37/220 - Experiment-24031.czi #1', 'c:1/2 t:38/220 - Experiment-24031.czi #1', 'c:1/2 t:39/220 - Experiment-24031.czi #1', 'c:1/2 t:40/220 - Experiment-24031.czi #1', 'c:1/2 t:41/220 - Experiment-24031.czi #1', 'c:1/2 t:42/220 - Experiment-24031.czi #1', 'c:1/2 t:43/220 - Experiment-24031.czi #1', 'c:1/2 t:44/220 - Experiment-24031.czi #1', 'c:1/2 t:45/220 - Experiment-24031.czi #1', 'c:1/2 t:46/220 - Experiment-24031.czi #1', 'c:1/2 t:47/220 - Experiment-24031.czi #1', 'c:1/2 t:48/220 - Experiment-24031.czi #1', 'c:1/2 t:49/220 - Experiment-24031.czi #1', 'c:1/2 t:50/220 - Experiment-24031.czi #1', 'c:1/2 t:51/220 - Experiment-24031.czi #1', 'c:1/2 t:52/220 - Experiment-24031.czi #1', 'c:1/2 t:53/220 - Experiment-24031.czi #1', 'c:1/2 t:54/220 - Experiment-24031.czi #1', 'c:1/2 t:55/220 - Experiment-24031.czi #1', 'c:1/2 t:56/220 - Experiment-24031.czi #1', 'c:1/2 t:57/220 - Experiment-24031.czi #1', 'c:1/2 t:58/220 - Experiment-24031.czi #1', 'c:1/2 t:59/220 - Experiment-24031.czi #1', 'c:1/2 t:60/220 - Experiment-24031.czi #1', 'c:1/2 t:61/220 - Experiment-24031.czi #1', 'c:1/2 t:62/220 - Experiment-24031.czi #1', 'c:1/2 t:63/220 - Experiment-24031.czi #1', 'c:1/2 t:64/220 - Experiment-24031.czi #1', 'c:1/2 t:65/220 - Experiment-24031.czi #1', 'c:1/2 t:66/220 - Experiment-24031.czi #1', 'c:1/2 t:67/220 - Experiment-24031.czi #1', 'c:1/2 t:68/220 - Experiment-24031.czi #1', 'c:1/2 t:69/220 - Experiment-24031.czi #1', 'c:1/2 t:70/220 - Experiment-24031.czi #1', 'c:1/2 t:71/220 - Experiment-24031.czi #1', 'c:1/2 t:72/220 - Experiment-24031.czi #1', 'c:1/2 t:73/220 - Experiment-24031.czi #1', 'c:1/2 t:74/220 - Experiment-24031.czi #1', 'c:1/2 t:75/220 - Experiment-24031.czi #1', 'c:1/2 t:76/220 - Experiment-24031.czi #1', 'c:1/2 t:77/220 - Experiment-24031.czi #1', 'c:1/2 t:78/220 - Experiment-24031.czi #1', 'c:1/2 t:79/220 - Experiment-24031.czi #1', 'c:1/2 t:80/220 - Experiment-24031.czi #1', 'c:1/2 t:81/220 - Experiment-24031.czi #1', 'c:1/2 t:82/220 - Experiment-24031.czi #1', 'c:1/2 t:83/220 - Experiment-24031.czi #1', 'c:1/2 t:84/220 - Experiment-24031.czi #1', 'c:1/2 t:85/220 - Experiment-24031.czi #1', 'c:1/2 t:86/220 - Experiment-24031.czi #1', 'c:1/2 t:87/220 - Experiment-24031.czi #1', 'c:1/2 t:88/220 - Experiment-24031.czi #1', 'c:1/2 t:89/220 - Experiment-24031.czi #1', 'c:1/2 t:90/220 - Experiment-24031.czi #1', 'c:1/2 t:91/220 - Experiment-24031.czi #1', 'c:1/2 t:92/220 - Experiment-24031.czi #1', 'c:1/2 t:93/220 - Experiment-24031.czi #1', 'c:1/2 t:94/220 - Experiment-24031.czi #1', 'c:1/2 t:95/220 - Experiment-24031.czi #1', 'c:1/2 t:96/220 - Experiment-24031.czi #1', 'c:1/2 t:97/220 - Experiment-24031.czi #1', 'c:1/2 t:98/220 - Experiment-24031.czi #1', 'c:1/2 t:99/220 - Experiment-24031.czi #1', 'c:1/2 t:100/220 - Experiment-24031.czi #1', 'c:1/2 t:101/220 - Experiment-24031.czi #1', 'c:1/2 t:102/220 - Experiment-24031.czi #1', 'c:1/2 t:103/220 - Experiment-24031.czi #1', 'c:1/2 t:104/220 - Experiment-24031.czi #1', 'c:1/2 t:105/220 - Experiment-24031.czi #1', 'c:1/2 t:106/220 - Experiment-24031.czi #1', 'c:1/2 t:107/220 - Experiment-24031.czi #1', 'c:1/2 t:108/220 - Experiment-24031.czi #1', 'c:1/2 t:109/220 - Experiment-24031.czi #1', 'c:1/2 t:110/220 - Experiment-24031.czi #1', 'c:1/2 t:111/220 - Experiment-24031.czi #1', 'c:1/2 t:112/220 - Experiment-24031.czi #1', 'c:1/2 t:113/220 - Experiment-24031.czi #1', 'c:1/2 t:114/220 - Experiment-24031.czi #1', 'c:1/2 t:115/220 - Experiment-24031.czi #1', 'c:1/2 t:116/220 - Experiment-24031.czi #1', 'c:1/2 t:117/220 - Experiment-24031.czi #1', 'c:1/2 t:118/220 - Experiment-24031.czi #1', 'c:1/2 t:119/220 - Experiment-24031.czi #1', 'c:1/2 t:120/220 - Experiment-24031.czi #1', 'c:1/2 t:121/220 - Experiment-24031.czi #1', 'c:1/2 t:122/220 - Experiment-24031.czi #1', 'c:1/2 t:123/220 - Experiment-24031.czi #1', 'c:1/2 t:124/220 - Experiment-24031.czi #1', 'c:1/2 t:125/220 - Experiment-24031.czi #1', 'c:1/2 t:126/220 - Experiment-24031.czi #1', 'c:1/2 t:127/220 - Experiment-24031.czi #1', 'c:1/2 t:128/220 - Experiment-24031.czi #1', 'c:1/2 t:129/220 - Experiment-24031.czi #1', 'c:1/2 t:130/220 - Experiment-24031.czi #1', 'c:1/2 t:131/220 - Experiment-24031.czi #1', 'c:1/2 t:132/220 - Experiment-24031.czi #1', 'c:1/2 t:133/220 - Experiment-24031.czi #1', 'c:1/2 t:134/220 - Experiment-24031.czi #1', 'c:1/2 t:135/220 - Experiment-24031.czi #1', 'c:1/2 t:136/220 - Experiment-24031.czi #1', 'c:1/2 t:137/220 - Experiment-24031.czi #1', 'c:1/2 t:138/220 - Experiment-24031.czi #1', 'c:1/2 t:139/220 - Experiment-24031.czi #1', 'c:1/2 t:140/220 - Experiment-24031.czi #1', 'c:1/2 t:141/220 - Experiment-24031.czi #1', 'c:1/2 t:142/220 - Experiment-24031.czi #1', 'c:1/2 t:143/220 - Experiment-24031.czi #1', 'c:1/2 t:144/220 - Experiment-24031.czi #1', 'c:1/2 t:145/220 - Experiment-24031.czi #1', 'c:1/2 t:146/220 - Experiment-24031.czi #1', 'c:1/2 t:147/220 - Experiment-24031.czi #1', 'c:1/2 t:148/220 - Experiment-24031.czi #1', 'c:1/2 t:149/220 - Experiment-24031.czi #1', 'c:1/2 t:150/220 - Experiment-24031.czi #1', 'c:1/2 t:151/220 - Experiment-24031.czi #1', 'c:1/2 t:152/220 - Experiment-24031.czi #1', 'c:1/2 t:153/220 - Experiment-24031.czi #1', 'c:1/2 t:154/220 - Experiment-24031.czi #1', 'c:1/2 t:155/220 - Experiment-24031.czi #1', 'c:1/2 t:156/220 - Experiment-24031.czi #1', 'c:1/2 t:157/220 - Experiment-24031.czi #1', 'c:1/2 t:158/220 - Experiment-24031.czi #1', 'c:1/2 t:159/220 - Experiment-24031.czi #1', 'c:1/2 t:160/220 - Experiment-24031.czi #1', 'c:1/2 t:161/220 - Experiment-24031.czi #1', 'c:1/2 t:162/220 - Experiment-24031.czi #1', 'c:1/2 t:163/220 - Experiment-24031.czi #1', 'c:1/2 t:164/220 - Experiment-24031.czi #1', 'c:1/2 t:165/220 - Experiment-24031.czi #1', 'c:1/2 t:166/220 - Experiment-24031.czi #1', 'c:1/2 t:167/220 - Experiment-24031.czi #1', 'c:1/2 t:168/220 - Experiment-24031.czi #1', 'c:1/2 t:169/220 - Experiment-24031.czi #1', 'c:1/2 t:170/220 - Experiment-24031.czi #1', 'c:1/2 t:171/220 - Experiment-24031.czi #1', 'c:1/2 t:172/220 - Experiment-24031.czi #1', 'c:1/2 t:173/220 - Experiment-24031.czi #1', 'c:1/2 t:174/220 - Experiment-24031.czi #1', 'c:1/2 t:175/220 - Experiment-24031.czi #1', 'c:1/2 t:176/220 - Experiment-24031.czi #1', 'c:1/2 t:177/220 - Experiment-24031.czi #1', 'c:1/2 t:178/220 - Experiment-24031.czi #1', 'c:1/2 t:179/220 - Experiment-24031.czi #1', 'c:1/2 t:180/220 - Experiment-24031.czi #1', 'c:1/2 t:181/220 - Experiment-24031.czi #1', 'c:1/2 t:182/220 - Experiment-24031.czi #1', 'c:1/2 t:183/220 - Experiment-24031.czi #1', 'c:1/2 t:184/220 - Experiment-24031.czi #1', 'c:1/2 t:185/220 - Experiment-24031.czi #1', 'c:1/2 t:186/220 - Experiment-24031.czi #1', 'c:1/2 t:187/220 - Experiment-24031.czi #1', 'c:1/2 t:188/220 - Experiment-24031.czi #1', 'c:1/2 t:189/220 - Experiment-24031.czi #1', 'c:1/2 t:190/220 - Experiment-24031.czi #1', 'c:1/2 t:191/220 - Experiment-24031.czi #1', 'c:1/2 t:192/220 - Experiment-24031.czi #1', 'c:1/2 t:193/220 - Experiment-24031.czi #1', 'c:1/2 t:194/220 - Experiment-24031.czi #1', 'c:1/2 t:195/220 - Experiment-24031.czi #1', 'c:1/2 t:196/220 - Experiment-24031.czi #1', 'c:1/2 t:197/220 - Experiment-24031.czi #1', 'c:1/2 t:198/220 - Experiment-24031.czi #1', 'c:1/2 t:199/220 - Experiment-24031.czi #1', 'c:1/2 t:200/220 - Experiment-24031.czi #1', 'c:1/2 t:201/220 - Experiment-24031.czi #1', 'c:1/2 t:202/220 - Experiment-24031.czi #1', 'c:1/2 t:203/220 - Experiment-24031.czi #1', 'c:1/2 t:204/220 - Experiment-24031.czi #1', 'c:1/2 t:205/220 - Experiment-24031.czi #1', 'c:1/2 t:206/220 - Experiment-24031.czi #1', 'c:1/2 t:207/220 - Experiment-24031.czi #1', 'c:1/2 t:208/220 - Experiment-24031.czi #1', 'c:1/2 t:209/220 - Experiment-24031.czi #1', 'c:1/2 t:210/220 - Experiment-24031.czi #1', 'c:1/2 t:211/220 - Experiment-24031.czi #1', 'c:1/2 t:212/220 - Experiment-24031.czi #1', 'c:1/2 t:213/220 - Experiment-24031.czi #1', 'c:1/2 t:214/220 - Experiment-24031.czi #1', 'c:1/2 t:215/220 - Experiment-24031.czi #1', 'c:1/2 t:216/220 - Experiment-24031.czi #1', 'c:1/2 t:217/220 - Experiment-24031.czi #1', 'c:1/2 t:218/220 - Experiment-24031.czi #1', 'c:1/2 t:219/220 - Experiment-24031.czi #1', 'c:1/2 t:220/220 - Experiment-24031.czi #1']}\n"
     ]
    }
   ],
   "source": [
    "tiffpage = tifffile.TiffFile(tiff_path).pages[0]\n",
    "for tag in tiffpage.tags.values():\n",
    "    print(tag.name, tag.value)"
   ]
  },
  {
   "cell_type": "code",
   "execution_count": 4,
   "metadata": {},
   "outputs": [],
   "source": [
    "width = tiffpage.tags.get('ImageWidth').value # Pixels\n",
    "height = tiffpage.tags.get('ImageLength').value # Pixels\n",
    "x_resolution = tiffpage.tags.get('XResolution').value # Pixels per micron\n",
    "y_resolution = tiffpage.tags.get('YResolution').value # Pixels per micron"
   ]
  },
  {
   "cell_type": "markdown",
   "metadata": {},
   "source": [
    "### Calculated paramters"
   ]
  },
  {
   "cell_type": "code",
   "execution_count": 5,
   "metadata": {},
   "outputs": [
    {
     "name": "stdout",
     "output_type": "stream",
     "text": [
      "Channel width: 2.7272727 pixels\n",
      "Radius ratio: 36.78400036784 ratio\n"
     ]
    }
   ],
   "source": [
    "# Calculated parameters\n",
    "x_resolution = x_resolution[0] / 1000000 # Pixels per micron\n",
    "y_resolution = y_resolution[0] / 1000000 # Pixels per micron\n",
    "\n",
    "pixel_size_x = 1/x_resolution # Microns per pixel\n",
    "pixel_size_y = 1/y_resolution # Microns per pixel\n",
    "\n",
    "channel_width_pixels = channel_width * x_resolution # Pixels\n",
    "channel_width_norm = channel_width_pixels / width\n",
    "\n",
    "radius_ratio = radius / channel_width_norm\n",
    "\n",
    "print(f\"Channel width: {channel_width_pixels} pixels\")\n",
    "print(f\"Radius ratio: {radius_ratio} ratio\")"
   ]
  },
  {
   "cell_type": "markdown",
   "metadata": {},
   "source": [
    "## Detect"
   ]
  },
  {
   "cell_type": "code",
   "execution_count": 6,
   "metadata": {},
   "outputs": [
    {
     "name": "stderr",
     "output_type": "stream",
     "text": [
      "  0%|          | 0/110 [00:00<?, ?it/s]2024-04-17 10:17:25.112851: I external/local_xla/xla/stream_executor/cuda/cuda_dnn.cc:454] Loaded cuDNN version 8904\n",
      "100%|██████████| 110/110 [01:04<00:00,  1.70it/s]\n",
      "100%|██████████| 110/110 [01:04<00:00,  1.70it/s]\n"
     ]
    },
    {
     "name": "stdout",
     "output_type": "stream",
     "text": [
      "2259\n",
      "Predicting trajectories...\n",
      "Creating graph edges...\n",
      "Creating dataframe...\n",
      "Getting trajectories...\n",
      "Done!\n"
     ]
    }
   ],
   "source": [
    "detections  = utils.detect(tiff_path, loadstar, pages_batch_size, alpha, cutoff)\n",
    "utils.save_detections(detections, f\"{output_path}/detections.csv\", full=True)"
   ]
  },
  {
   "cell_type": "markdown",
   "metadata": {},
   "source": [
    "## Track"
   ]
  },
  {
   "cell_type": "code",
   "execution_count": 7,
   "metadata": {},
   "outputs": [
    {
     "name": "stderr",
     "output_type": "stream",
     "text": [
      "100%|██████████| 1/1 [00:03<00:00,  3.51s/it]\n",
      "/home/gideon/Documents/PhD/Projects/KAW/.venv/lib/python3.11/site-packages/deeptrack/models/gnns/utils.py:12: FutureWarning: Setting an item of incompatible dtype is deprecated and will raise an error in a future version of pandas. Value 'False' has dtype incompatible with float64, please explicitly cast to a compatible dtype first.\n",
      "  d.loc[\n",
      "/home/gideon/Documents/PhD/Projects/KAW/.venv/lib/python3.11/site-packages/deeptrack/models/gnns/utils.py:52: FutureWarning: Calling int on a single element Series is deprecated and will raise a TypeError in the future. Use int(ser.iloc[0]) instead\n",
      "  alpha = 0.1 + d_alpha * int(solutions[i : i + 1][\"frame_y\"])\n",
      "/home/gideon/Documents/PhD/Projects/KAW/.venv/lib/python3.11/site-packages/deeptrack/models/gnns/utils.py:54: FutureWarning: Calling int on a single element Series is deprecated and will raise a TypeError in the future. Use int(ser.iloc[0]) instead\n",
      "  if not (str(int(solutions[i : i + 1][\"node_x\"])) in t.keys()):\n",
      "/home/gideon/Documents/PhD/Projects/KAW/.venv/lib/python3.11/site-packages/deeptrack/models/gnns/utils.py:55: FutureWarning: Calling int on a single element Series is deprecated and will raise a TypeError in the future. Use int(ser.iloc[0]) instead\n",
      "  t[str(int(solutions[i : i + 1][\"node_x\"]))] = next(color)\n",
      "/home/gideon/Documents/PhD/Projects/KAW/.venv/lib/python3.11/site-packages/deeptrack/models/gnns/utils.py:56: FutureWarning: Calling int on a single element Series is deprecated and will raise a TypeError in the future. Use int(ser.iloc[0]) instead\n",
      "  tr[int(solutions[i : i + 1][\"node_x\"])] = next(x_iterator)\n",
      "/home/gideon/Documents/PhD/Projects/KAW/.venv/lib/python3.11/site-packages/deeptrack/models/gnns/utils.py:57: FutureWarning: Calling float on a single element Series is deprecated and will raise a TypeError in the future. Use float(ser.iloc[0]) instead\n",
      "  sc[int(solutions[i : i + 1][\"node_x\"])] = float(\n",
      "/home/gideon/Documents/PhD/Projects/KAW/.venv/lib/python3.11/site-packages/deeptrack/models/gnns/utils.py:57: FutureWarning: Calling int on a single element Series is deprecated and will raise a TypeError in the future. Use int(ser.iloc[0]) instead\n",
      "  sc[int(solutions[i : i + 1][\"node_x\"])] = float(\n",
      "/home/gideon/Documents/PhD/Projects/KAW/.venv/lib/python3.11/site-packages/deeptrack/models/gnns/utils.py:61: FutureWarning: Calling int on a single element Series is deprecated and will raise a TypeError in the future. Use int(ser.iloc[0]) instead\n",
      "  if int(solutions[i : i + 1][\"node_x\"]) in parents:\n",
      "/home/gideon/Documents/PhD/Projects/KAW/.venv/lib/python3.11/site-packages/deeptrack/models/gnns/utils.py:70: FutureWarning: Calling int on a single element Series is deprecated and will raise a TypeError in the future. Use int(ser.iloc[0]) instead\n",
      "  str(int(solutions[i : i + 1][\"node_x\"]))\n",
      "/home/gideon/Documents/PhD/Projects/KAW/.venv/lib/python3.11/site-packages/deeptrack/models/gnns/utils.py:69: FutureWarning: Calling int on a single element Series is deprecated and will raise a TypeError in the future. Use int(ser.iloc[0]) instead\n",
      "  t[str(int(solutions[i : i + 1][\"node_y\"]))] = t[\n",
      "/home/gideon/Documents/PhD/Projects/KAW/.venv/lib/python3.11/site-packages/deeptrack/models/gnns/utils.py:73: FutureWarning: Calling int on a single element Series is deprecated and will raise a TypeError in the future. Use int(ser.iloc[0]) instead\n",
      "  key = int(solutions[i : i + 1][\"node_y\"])\n",
      "/home/gideon/Documents/PhD/Projects/KAW/.venv/lib/python3.11/site-packages/deeptrack/models/gnns/utils.py:74: FutureWarning: Calling int on a single element Series is deprecated and will raise a TypeError in the future. Use int(ser.iloc[0]) instead\n",
      "  tr[key] = tr[int(solutions[i : i + 1][\"node_x\"])]\n",
      "/home/gideon/Documents/PhD/Projects/KAW/.venv/lib/python3.11/site-packages/deeptrack/models/gnns/utils.py:75: FutureWarning: Calling int on a single element Series is deprecated and will raise a TypeError in the future. Use int(ser.iloc[0]) instead\n",
      "  parents.append(int(solutions[i : i + 1][\"node_x\"]))\n",
      "/home/gideon/Documents/PhD/Projects/KAW/.venv/lib/python3.11/site-packages/deeptrack/models/gnns/utils.py:62: FutureWarning: Calling int on a single element Series is deprecated and will raise a TypeError in the future. Use int(ser.iloc[0]) instead\n",
      "  t[str(int(solutions[i : i + 1][\"node_x\"]))] = next(color)\n",
      "/home/gideon/Documents/PhD/Projects/KAW/.venv/lib/python3.11/site-packages/deeptrack/models/gnns/utils.py:63: FutureWarning: Calling int on a single element Series is deprecated and will raise a TypeError in the future. Use int(ser.iloc[0]) instead\n",
      "  tr[int(solutions[i : i + 1][\"node_x\"])] = next(x_iterator)\n",
      "/home/gideon/Documents/PhD/Projects/KAW/.venv/lib/python3.11/site-packages/deeptrack/models/gnns/utils.py:64: FutureWarning: Calling float on a single element Series is deprecated and will raise a TypeError in the future. Use float(ser.iloc[0]) instead\n",
      "  sc[int(solutions[i : i + 1][\"node_x\"])] = float(\n",
      "/home/gideon/Documents/PhD/Projects/KAW/.venv/lib/python3.11/site-packages/deeptrack/models/gnns/utils.py:64: FutureWarning: Calling int on a single element Series is deprecated and will raise a TypeError in the future. Use int(ser.iloc[0]) instead\n",
      "  sc[int(solutions[i : i + 1][\"node_x\"])] = float(\n"
     ]
    }
   ],
   "source": [
    "detections = utils.load_detections(f\"{output_path}/detections.csv\")\n",
    "\n",
    "detections = utils.warp_axis(detections, radius_ratio, axis_name='centroid-0')\n",
    "tracks = track.predict_trajectories(magik, detections, radius, n_frames, traj_min)\n",
    "tracks = utils.unwarp_axis(tracks, radius_ratio, axis_name='x')\n",
    "\n",
    "# Convert to pixel values\n",
    "tracks['x'] *= width\n",
    "tracks['y'] *= height\n",
    "track.save_trajectories(tracks, f\"{output_path}/tracks.csv\")"
   ]
  },
  {
   "cell_type": "markdown",
   "metadata": {},
   "source": [
    "### Plot track"
   ]
  },
  {
   "cell_type": "code",
   "execution_count": null,
   "metadata": {},
   "outputs": [],
   "source": [
    "track.plot_trajectories(tracks, tiff_path, output_path, pages_batch_size, stop=50)"
   ]
  },
  {
   "cell_type": "markdown",
   "metadata": {},
   "source": [
    "## Further analyze the tracks"
   ]
  },
  {
   "cell_type": "markdown",
   "metadata": {},
   "source": [
    "### Change x and y units"
   ]
  },
  {
   "cell_type": "markdown",
   "metadata": {},
   "source": [
    "#### Add axis for lengths in microns"
   ]
  },
  {
   "cell_type": "code",
   "execution_count": null,
   "metadata": {},
   "outputs": [],
   "source": [
    "tracks = track.load_trajectories(f\"{output_path}/tracks.csv\")\n",
    "\n",
    "tracks['x_microns'] = tracks['x'] * pixel_size_x\n",
    "tracks['y_microns'] = tracks['y'] * pixel_size_y"
   ]
  },
  {
   "cell_type": "markdown",
   "metadata": {},
   "source": [
    "#### Alt. replace x and y with micron versions"
   ]
  },
  {
   "cell_type": "code",
   "execution_count": null,
   "metadata": {},
   "outputs": [],
   "source": [
    "tracks = track.load_trajectories(f\"{output_path}/tracks.csv\")\n",
    "tracks['x'] = tracks['x'] * pixel_size_x\n",
    "tracks['y'] = tracks['y'] * pixel_size_y"
   ]
  },
  {
   "cell_type": "code",
   "execution_count": null,
   "metadata": {},
   "outputs": [],
   "source": [
    "tracks.head(20)"
   ]
  },
  {
   "cell_type": "markdown",
   "metadata": {},
   "source": [
    "### Remove still particles"
   ]
  },
  {
   "cell_type": "code",
   "execution_count": null,
   "metadata": {},
   "outputs": [],
   "source": [
    "still_cuttoff = 40\n",
    "\n",
    "print(f'Number of objects before: {len(tracks.entity.unique())}')\n",
    "\n",
    "tracks_stills_removed = track.remove_still_objects(tracks, still_cuttoff)\n",
    "\n",
    "print(f'Number of objects after: {len(tracks_stills_removed.entity.unique())}')"
   ]
  },
  {
   "cell_type": "code",
   "execution_count": null,
   "metadata": {},
   "outputs": [],
   "source": [
    "track.plot_trajectories(tracks_stills_removed, tiff_path, output_path, pages_batch_size, stop=50)"
   ]
  },
  {
   "cell_type": "markdown",
   "metadata": {},
   "source": [
    "### Track length and distance"
   ]
  },
  {
   "cell_type": "code",
   "execution_count": null,
   "metadata": {},
   "outputs": [],
   "source": [
    "tracks = tracks_stills_removed\n",
    "tracks = track.distance_traveled(tracks)\n",
    "tracks.head(20)"
   ]
  },
  {
   "cell_type": "code",
   "execution_count": null,
   "metadata": {},
   "outputs": [],
   "source": [
    "tracks = track.count_appearances(tracks)\n",
    "track.save_trajectories(tracks, f\"{output_path}/tracks.csv\")\n",
    "\n",
    "tracks.head(50)"
   ]
  },
  {
   "cell_type": "markdown",
   "metadata": {},
   "source": [
    "### Extract intensity"
   ]
  },
  {
   "cell_type": "code",
   "execution_count": null,
   "metadata": {},
   "outputs": [],
   "source": [
    "tracks = utils.detection_intensity(tiff_path, tracks, pages_batch_size, mode='mean', kernel_size=3)\n",
    "track_intensities = utils.track_intensity(tracks, mode='mean')"
   ]
  },
  {
   "cell_type": "code",
   "execution_count": null,
   "metadata": {},
   "outputs": [],
   "source": [
    "tracks.head(10)"
   ]
  },
  {
   "cell_type": "code",
   "execution_count": null,
   "metadata": {},
   "outputs": [],
   "source": [
    "print(track_intensities)"
   ]
  }
 ],
 "metadata": {
  "kernelspec": {
   "display_name": "base",
   "language": "python",
   "name": "python3"
  },
  "language_info": {
   "codemirror_mode": {
    "name": "ipython",
    "version": 3
   },
   "file_extension": ".py",
   "mimetype": "text/x-python",
   "name": "python",
   "nbconvert_exporter": "python",
   "pygments_lexer": "ipython3",
   "version": "3.11.6"
  }
 },
 "nbformat": 4,
 "nbformat_minor": 2
}
